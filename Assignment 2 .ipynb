{
 "cells": [
  {
   "cell_type": "raw",
   "id": "fc0ee952-46cc-465d-96a3-b135351d106a",
   "metadata": {},
   "source": [
    "How do you comment code in Python? What are the different types of comments?\n"
   ]
  },
  {
   "cell_type": "raw",
   "id": "c8bb9473-f970-4878-b2a8-c88c17f5ebb4",
   "metadata": {},
   "source": [
    "interpeter ignore the line when we add '#' \n",
    "we have 2 types \n",
    "1.single line comments we use '#'\n",
    "2.mult iine comments we use '''  '''\n",
    "\n"
   ]
  },
  {
   "cell_type": "raw",
   "id": "4c0d6a4a-fb24-4622-b848-719137d5db77",
   "metadata": {},
   "source": [
    "Q2. What are variables in Python? How do you declare and assign values to variables?\n",
    "\n",
    "variable : it store the value wecas assign line a=10"
   ]
  },
  {
   "cell_type": "raw",
   "id": "a7db5c3e-f4a1-4e25-a290-dedf990be6b4",
   "metadata": {},
   "source": [
    "Q3. How do you convert one data type to another in Python?"
   ]
  },
  {
   "cell_type": "code",
   "execution_count": 3,
   "id": "51875a29-8c92-4602-9589-77a9498f3842",
   "metadata": {},
   "outputs": [
    {
     "data": {
      "text/plain": [
       "float"
      ]
     },
     "execution_count": 3,
     "metadata": {},
     "output_type": "execute_result"
    }
   ],
   "source": [
    "a =10.34\n",
    "type(a)"
   ]
  },
  {
   "cell_type": "code",
   "execution_count": 4,
   "id": "1d475ff8-e62f-4bec-972c-cc5b219fcf42",
   "metadata": {},
   "outputs": [
    {
     "data": {
      "text/plain": [
       "10"
      ]
     },
     "execution_count": 4,
     "metadata": {},
     "output_type": "execute_result"
    }
   ],
   "source": [
    "int(a)"
   ]
  },
  {
   "cell_type": "raw",
   "id": "5cf43af6-9ed4-4572-ab45-d8c7e25941bd",
   "metadata": {},
   "source": [
    "Q4. How do you write and execute a Python script from the command line?\n",
    "\n",
    "To write and execute a Python script from the command line, follow these steps:\n",
    "1. **Open a Text Editor**: Open a text editor (such as Notepad on Windows, or any code editor like VSCode, Sublime Text, or Atom).\n",
    "2. **Write Your Python Code**: Write your Python code in the text editor. For example, you can create a simple \"hello.py\" script with the following content:\n",
    "   ```python\n",
    "   print(\"Hello, world!\")\n",
    "   ```\n",
    "3. **Save the File**: Save the file with a \".py\" extension. In our example, save it as \"hello.py\".\n",
    "4. **Open Command Prompt (Windows) or Terminal (macOS/Linux)**: To open the command prompt on Windows, press `Win + R`, type \"cmd\", and press Enter. On macOS/Linux, open the Terminal.\n",
    "5. **Navigate to the Script's Directory**: Use the `cd` command to navigate to the directory where your Python script is located. For example, if your script is on the desktop, you might use:\n",
    "   ```\n",
    "   cd Desktop\n",
    "   ```\n",
    "6. **Execute the Script**: To execute the script, type `python` followed by the script's filename and press Enter. Using our example:\n",
    "   ```\n",
    "   python hello.py\n",
    "   ```\n",
    "   You should see the output:\n",
    "   ```\n",
    "   Hello, world!\n",
    "   ```\n",
    "That's it! You've successfully written and executed a Python script from the command line. You can create more complex scripts and follow the same steps to run them."
   ]
  },
  {
   "cell_type": "raw",
   "id": "940fe2cf-64ef-4998-86d7-9dc2bf23a847",
   "metadata": {},
   "source": [
    "Q5. Given a list my_list = [1, 2, 3, 4, 5], write the code to slice the list and obtain the sub-list [2, 3]."
   ]
  },
  {
   "cell_type": "code",
   "execution_count": 5,
   "id": "5e7dfa69-41d2-4e27-a9a0-6541f7a083e7",
   "metadata": {},
   "outputs": [
    {
     "data": {
      "text/plain": [
       "[2, 3]"
      ]
     },
     "execution_count": 5,
     "metadata": {},
     "output_type": "execute_result"
    }
   ],
   "source": [
    "my_list=[1,2,3,4,5]\n",
    "sub_list=my_list[1:3]"
   ]
  },
  {
   "cell_type": "raw",
   "id": "fcd0dd0c-fcc1-4c5b-a202-c6b7777959d1",
   "metadata": {},
   "source": [
    "What is a complex number in mathematics, and how is it represented in Python?\n",
    "\n",
    "In mathematics, a complex number is a number that comprises both a real part and an imaginary part. It is written in the form \"a + bi,\" where \"a\" represents the real part, \"b\" represents the imaginary part, and \"i\" represents the imaginary unit (which is the square root of -1)."
   ]
  },
  {
   "cell_type": "code",
   "execution_count": 6,
   "id": "f763c84b-ada0-4bb6-b96b-6e91bcd18906",
   "metadata": {},
   "outputs": [],
   "source": [
    "complex_no=4+5j"
   ]
  },
  {
   "cell_type": "raw",
   "id": "a8e842fd-3bd8-4c5e-bd37-03c6c14c8420",
   "metadata": {},
   "source": [
    "What is the correct way to declare a variable named age and assign the value 25 to it?"
   ]
  },
  {
   "cell_type": "code",
   "execution_count": 7,
   "id": "c36e7a43-ed1c-41a9-8c0e-25c19e43e1f7",
   "metadata": {},
   "outputs": [],
   "source": [
    "age=25"
   ]
  },
  {
   "cell_type": "raw",
   "id": "174f00ef-bc70-4410-aa1c-b375e5db9ed4",
   "metadata": {},
   "source": [
    "Q8. Declare a variable named price and assign the value 9.99 to it. What data type does this variable \n",
    "belong to?"
   ]
  },
  {
   "cell_type": "code",
   "execution_count": 8,
   "id": "a7425963-8c23-44cb-ac26-f28e90f7f7ca",
   "metadata": {},
   "outputs": [
    {
     "data": {
      "text/plain": [
       "float"
      ]
     },
     "execution_count": 8,
     "metadata": {},
     "output_type": "execute_result"
    }
   ],
   "source": [
    "value=9.99\n",
    "type(value)"
   ]
  },
  {
   "cell_type": "raw",
   "id": "0f38686c-2906-4d7a-a02f-3da1c3bbc147",
   "metadata": {},
   "source": [
    "Q9. Create a variable named name and assign your full name to it as a string. How would you print the \n",
    "value of this variable?"
   ]
  },
  {
   "cell_type": "code",
   "execution_count": 9,
   "id": "b99b027b-60e6-454f-89b5-6ee68148bbd7",
   "metadata": {},
   "outputs": [
    {
     "data": {
      "text/plain": [
       "'NAME'"
      ]
     },
     "execution_count": 9,
     "metadata": {},
     "output_type": "execute_result"
    }
   ],
   "source": [
    "v_name='NAME'\n",
    "v_name"
   ]
  },
  {
   "cell_type": "raw",
   "id": "19da6c29-da8e-4402-b95a-e0064d2219ce",
   "metadata": {},
   "source": [
    "Given the string \"Hello, World!\", extract the substring \"World\"."
   ]
  },
  {
   "cell_type": "code",
   "execution_count": 11,
   "id": "b348fbc5-0db7-46ac-b35c-8d2a6e5ce78b",
   "metadata": {},
   "outputs": [
    {
     "data": {
      "text/plain": [
       "'world'"
      ]
     },
     "execution_count": 11,
     "metadata": {},
     "output_type": "execute_result"
    }
   ],
   "source": [
    "a='hello world'\n",
    "a[6:11]"
   ]
  },
  {
   "cell_type": "raw",
   "id": "646582a8-a61b-4439-b72d-c49a5adbdc84",
   "metadata": {},
   "source": [
    "Q11. Create a variable named \"is_student\" and assign it a boolean value indicating whether you are \n",
    "currently a student or not."
   ]
  },
  {
   "cell_type": "code",
   "execution_count": null,
   "id": "cd10a4a5-cfb3-45fc-91e2-6f182de80eee",
   "metadata": {},
   "outputs": [],
   "source": [
    "is_student=True\n"
   ]
  }
 ],
 "metadata": {
  "kernelspec": {
   "display_name": "Python 3 (ipykernel)",
   "language": "python",
   "name": "python3"
  },
  "language_info": {
   "codemirror_mode": {
    "name": "ipython",
    "version": 3
   },
   "file_extension": ".py",
   "mimetype": "text/x-python",
   "name": "python",
   "nbconvert_exporter": "python",
   "pygments_lexer": "ipython3",
   "version": "3.10.8"
  }
 },
 "nbformat": 4,
 "nbformat_minor": 5
}
